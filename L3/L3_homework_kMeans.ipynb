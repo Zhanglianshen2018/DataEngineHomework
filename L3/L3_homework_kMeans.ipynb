{
 "cells": [
  {
   "cell_type": "code",
   "execution_count": 67,
   "metadata": {},
   "outputs": [],
   "source": [
    "#sklearn官方文档 http://www.scikitlearn.com.cn/\n",
    "%matplotlib inline\n",
    "import matplotlib.pyplot as plt\n",
    "import seaborn as sns; sns.set()#绘图风格"
   ]
  },
  {
   "cell_type": "code",
   "execution_count": 100,
   "metadata": {},
   "outputs": [],
   "source": [
    "from sklearn.cluster import KMeans\n",
    "import pandas as pd\n",
    "from sklearn import preprocessing\n",
    "from sklearn import metrics"
   ]
  },
  {
   "cell_type": "code",
   "execution_count": 81,
   "metadata": {},
   "outputs": [
    {
     "data": {
      "text/html": [
       "<div>\n",
       "<style scoped>\n",
       "    .dataframe tbody tr th:only-of-type {\n",
       "        vertical-align: middle;\n",
       "    }\n",
       "\n",
       "    .dataframe tbody tr th {\n",
       "        vertical-align: top;\n",
       "    }\n",
       "\n",
       "    .dataframe thead th {\n",
       "        text-align: right;\n",
       "    }\n",
       "</style>\n",
       "<table border=\"1\" class=\"dataframe\">\n",
       "  <thead>\n",
       "    <tr style=\"text-align: right;\">\n",
       "      <th></th>\n",
       "      <th>地区</th>\n",
       "      <th>人均GDP</th>\n",
       "      <th>城镇人口比重</th>\n",
       "      <th>交通工具消费价格指数</th>\n",
       "      <th>百户拥有汽车量</th>\n",
       "    </tr>\n",
       "  </thead>\n",
       "  <tbody>\n",
       "    <tr>\n",
       "      <th>0</th>\n",
       "      <td>北京</td>\n",
       "      <td>8.05</td>\n",
       "      <td>86.20</td>\n",
       "      <td>95.92</td>\n",
       "      <td>37.71</td>\n",
       "    </tr>\n",
       "    <tr>\n",
       "      <th>1</th>\n",
       "      <td>天津</td>\n",
       "      <td>8.34</td>\n",
       "      <td>80.50</td>\n",
       "      <td>103.57</td>\n",
       "      <td>20.62</td>\n",
       "    </tr>\n",
       "    <tr>\n",
       "      <th>2</th>\n",
       "      <td>河北</td>\n",
       "      <td>3.39</td>\n",
       "      <td>45.60</td>\n",
       "      <td>99.03</td>\n",
       "      <td>23.32</td>\n",
       "    </tr>\n",
       "    <tr>\n",
       "      <th>3</th>\n",
       "      <td>山西</td>\n",
       "      <td>3.13</td>\n",
       "      <td>49.68</td>\n",
       "      <td>98.96</td>\n",
       "      <td>18.60</td>\n",
       "    </tr>\n",
       "    <tr>\n",
       "      <th>4</th>\n",
       "      <td>内蒙古</td>\n",
       "      <td>5.79</td>\n",
       "      <td>56.62</td>\n",
       "      <td>99.11</td>\n",
       "      <td>19.62</td>\n",
       "    </tr>\n",
       "  </tbody>\n",
       "</table>\n",
       "</div>"
      ],
      "text/plain": [
       "    地区  人均GDP  城镇人口比重  交通工具消费价格指数  百户拥有汽车量\n",
       "0   北京   8.05   86.20       95.92    37.71\n",
       "1   天津   8.34   80.50      103.57    20.62\n",
       "2   河北   3.39   45.60       99.03    23.32\n",
       "3   山西   3.13   49.68       98.96    18.60\n",
       "4  内蒙古   5.79   56.62       99.11    19.62"
      ]
     },
     "execution_count": 81,
     "metadata": {},
     "output_type": "execute_result"
    }
   ],
   "source": [
    "data = pd.read_csv('car_data.csv',encoding='gbk')\n",
    "data.head(5)"
   ]
  },
  {
   "cell_type": "code",
   "execution_count": 82,
   "metadata": {},
   "outputs": [],
   "source": [
    "train_x = data[['人均GDP','城镇人口比重','交通工具消费价格指数','百户拥有汽车量']]\n",
    "# 规范化到[0,1]空间\n",
    "min_max_scaler=preprocessing.MinMaxScaler()\n",
    "train_x=min_max_scaler.fit_transform(train_x)"
   ]
  },
  {
   "cell_type": "code",
   "execution_count": 107,
   "metadata": {},
   "outputs": [
    {
     "data": {
      "image/png": "[encoded data removed]",
      "text/plain": [
       "<Figure size 432x288 with 1 Axes>"
      ]
     },
     "metadata": {},
     "output_type": "display_data"
    }
   ],
   "source": [
    "#K-Means 手肘法：\n",
    "# 统计不同K取值的误差平方和\n",
    "sse = []\n",
    "for k in range(1, 11):\n",
    "    # kmeans算法\n",
    "    kmeans = KMeans(n_clusters=k)\n",
    "    kmeans.fit(train_x)\n",
    "    # 计算inertia簇内误差平方和\n",
    "    sse.append(kmeans.inertia_)\n",
    "x = range(1, 11)\n",
    "plt.xlabel('K')\n",
    "plt.ylabel('SSE')\n",
    "plt.plot(x, sse, 'o-')\n",
    "plt.show()\n",
    "#确定K最佳值为4"
   ]
  },
  {
   "cell_type": "code",
   "execution_count": 108,
   "metadata": {},
   "outputs": [],
   "source": [
    "from sklearn import metrics"
   ]
  },
  {
   "cell_type": "code",
   "execution_count": 109,
   "metadata": {},
   "outputs": [],
   "source": [
    "# 使用kmeans进行聚类\n",
    "kmeans = KMeans(n_clusters=4)\n",
    "kmeans.fit(train_x)\n",
    "predict_y = kmeans.predict(train_x)"
   ]
  },
  {
   "cell_type": "code",
   "execution_count": 110,
   "metadata": {},
   "outputs": [
    {
     "data": {
      "text/plain": [
       "array([1, 3, 2, 2, 1, 0, 2, 0, 3, 1, 1, 0, 0, 0, 1, 0, 0, 0, 1, 0, 0, 0,\n",
       "       0, 0, 2, 2, 0, 0, 0, 0, 0])"
      ]
     },
     "execution_count": 110,
     "metadata": {},
     "output_type": "execute_result"
    }
   ],
   "source": [
    "predict_y \n",
    "#plt.scatter(train_x,predict_y,s=50)"
   ]
  },
  {
   "cell_type": "code",
   "execution_count": 111,
   "metadata": {},
   "outputs": [],
   "source": [
    "data['分类结果']=predict_y\n",
    "data.to_csv(r'E:\\DataEngine培训\\L3\\L3\\result.csv',encoding='gbk')"
   ]
  },
  {
   "cell_type": "code",
   "execution_count": 112,
   "metadata": {},
   "outputs": [],
   "source": [
    "#使用AgglomerativeClustering进行聚类\n",
    "agglomerative=sklearn.cluster.AgglomerativeClustering(n_clusters=4, affinity='euclidean', compute_full_tree='auto', linkage='ward')"
   ]
  },
  {
   "cell_type": "code",
   "execution_count": 113,
   "metadata": {},
   "outputs": [
    {
     "data": {
      "text/plain": [
       "array([1, 2, 0, 0, 1, 0, 0, 3, 2, 1, 1, 3, 0, 3, 1, 3, 3, 3, 1, 3, 3, 3,\n",
       "       3, 3, 0, 0, 3, 3, 3, 3, 3], dtype=int64)"
      ]
     },
     "execution_count": 113,
     "metadata": {},
     "output_type": "execute_result"
    }
   ],
   "source": [
    "predict_y =agglomerative.fit_predict(train_x)\n",
    "predict_y "
   ]
  },
  {
   "cell_type": "code",
   "execution_count": 114,
   "metadata": {},
   "outputs": [
    {
     "data": {
      "image/png": "[encoded data removed]",
      "text/plain": [
       "<Figure size 432x288 with 1 Axes>"
      ]
     },
     "metadata": {},
     "output_type": "display_data"
    }
   ],
   "source": [
    "from scipy.cluster.hierarchy import dendrogram, ward\n",
    "linkage_matrix = ward(train_x)\n",
    "dendrogram(linkage_matrix)\n",
    "plt.show()"
   ]
  },
  {
   "cell_type": "code",
   "execution_count": 128,
   "metadata": {},
   "outputs": [
    {
     "name": "stdout",
     "output_type": "stream",
     "text": [
      "C:\\Users\\13621\n"
     ]
    }
   ],
   "source": [
    "import os\n",
    "print(os.path.abspath('.'))"
   ]
  },
  {
   "cell_type": "code",
   "execution_count": null,
   "metadata": {},
   "outputs": [],
   "source": []
  }
 ],
 "metadata": {
  "kernelspec": {
   "display_name": "Python 3.7.6 64-bit (conda)",
   "language": "python",
   "name": "python37664bitconda2d505dccf1ef4264a55305f53a072ca0"
  },
  "language_info": {
   "codemirror_mode": {
    "name": "ipython",
    "version": 3
   },
   "file_extension": ".py",
   "mimetype": "text/x-python",
   "name": "python",
   "nbconvert_exporter": "python",
   "pygments_lexer": "ipython3",
   "version": "3.7.6"
  }
 },
 "nbformat": 4,
 "nbformat_minor": 4
}
